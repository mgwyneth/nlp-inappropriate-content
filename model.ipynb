{
 "cells": [
  {
   "cell_type": "code",
   "execution_count": 29,
   "metadata": {},
   "outputs": [
    {
     "name": "stderr",
     "output_type": "stream",
     "text": [
      "[nltk_data] Downloading package stopwords to\n",
      "[nltk_data]     C:\\Users\\mauib\\AppData\\Roaming\\nltk_data...\n",
      "[nltk_data]   Package stopwords is already up-to-date!\n"
     ]
    },
    {
     "data": {
      "text/plain": [
       "True"
      ]
     },
     "execution_count": 29,
     "metadata": {},
     "output_type": "execute_result"
    }
   ],
   "source": [
    "import pandas as pd\n",
    "import numpy as np\n",
    "import tensorflow as tf\n",
    "import matplotlib.pyplot as plt\n",
    "import nltk\n",
    "import regex as re\n",
    "import json\n",
    "from nltk.corpus import stopwords\n",
    "from tensorflow.keras.preprocessing.text import Tokenizer\n",
    "from tensorflow.keras.preprocessing.sequence import pad_sequences\n",
    "\n",
    "nltk.download('stopwords')"
   ]
  },
  {
   "cell_type": "code",
   "execution_count": 30,
   "metadata": {},
   "outputs": [],
   "source": [
    "STOPWORDS = set(stopwords.words('english'))\n",
    "REPLACE_BY_SPACE_RE = re.compile('[/(){}\\[\\]\\|@,;]')\n",
    "BAD_SYMBOLS_RE = re.compile('[^0-9a-z #+_]')\n",
    "USERNAME_RE = re.compile('@[^\\s]+')\n",
    "HASHTAG_RE = re.compile('#[^\\s]+')\n",
    "\n",
    "VOCAB_SIZE = 10000\n",
    "TEXT_MAX_LEN = 200\n",
    "TRUNCATING_TYPE = PADDING_TYPE = 'post'\n",
    "OOV_TOK = '<OOV>'"
   ]
  },
  {
   "cell_type": "code",
   "execution_count": 31,
   "metadata": {},
   "outputs": [
    {
     "name": "stdout",
     "output_type": "stream",
     "text": [
      "27101 27101\n"
     ]
    }
   ],
   "source": [
    "# data pre processing\n",
    "\n",
    "texts = []\n",
    "labels = []\n",
    "\n",
    "df = pd.read_csv('DATASET_2.csv', names=['label', 'text'])\n",
    "df = df.sample(frac=1).reset_index(drop=True)\n",
    "\n",
    "for index, row in df.iterrows():\n",
    "    if 'http' in str(row['text']) or str(row['label']) == 'nan': continue\n",
    "\n",
    "    labels.append(str(row['label']))\n",
    "    \n",
    "    txt = str(row['text']).lower()\n",
    "    txt = USERNAME_RE.sub('', txt)\n",
    "    txt = REPLACE_BY_SPACE_RE.sub(' ', txt)\n",
    "    txt = BAD_SYMBOLS_RE.sub(' ', txt)\n",
    "    txt = ' '.join(word for word in txt.split() if word not in STOPWORDS)\n",
    "\n",
    "    texts.append(txt)\n",
    "\n",
    "print(len(texts), len(labels))"
   ]
  },
  {
   "cell_type": "code",
   "execution_count": 32,
   "metadata": {},
   "outputs": [
    {
     "name": "stdout",
     "output_type": "stream",
     "text": [
      "21680 21680\n",
      "5421 5421\n"
     ]
    }
   ],
   "source": [
    "# data splitting\n",
    "TRAIN_SIZE = int(len(texts) * .8)\n",
    "\n",
    "training_labels = labels[0:TRAIN_SIZE]\n",
    "training_texts = texts[0:TRAIN_SIZE]\n",
    "\n",
    "testing_labels = labels[TRAIN_SIZE:]\n",
    "testing_texts = texts[TRAIN_SIZE:]\n",
    "\n",
    "print(len(training_labels), len(training_texts))\n",
    "print(len(testing_labels), len(testing_texts))"
   ]
  },
  {
   "cell_type": "code",
   "execution_count": 33,
   "metadata": {},
   "outputs": [
    {
     "name": "stdout",
     "output_type": "stream",
     "text": [
      "21680 21680\n",
      "[[1]\n",
      " [2]\n",
      " [4]\n",
      " [1]\n",
      " [2]\n",
      " [4]\n",
      " [2]\n",
      " [1]\n",
      " [2]\n",
      " [1]] ['cyberbullying', 'suicide', 'nsfw', 'cyberbullying', 'suicide', 'nsfw', 'suicide', 'cyberbullying', 'suicide', 'cyberbullying']\n",
      "{'cyberbullying', 'nsfw', 'suicide', 'neutral'}\n"
     ]
    }
   ],
   "source": [
    "# tokenizing texts\n",
    "text_tokenizer = Tokenizer(num_words=VOCAB_SIZE, oov_token=OOV_TOK, filters='!\"#$%&()*+,-./:;<=>?@[\\\\]^_`{\"}~\\t\\n')\n",
    "text_tokenizer.fit_on_texts(testing_texts)\n",
    "\n",
    "training_texts_sequence = text_tokenizer.texts_to_sequences(training_texts)\n",
    "training_texts_padded = pad_sequences(training_texts_sequence, maxlen=TEXT_MAX_LEN, padding=PADDING_TYPE, truncating=TRUNCATING_TYPE)\n",
    "\n",
    "testing_texts_sequence = text_tokenizer.texts_to_sequences(testing_texts)\n",
    "testing_texts_padded = pad_sequences(testing_texts_sequence, maxlen=TEXT_MAX_LEN, padding=PADDING_TYPE, truncating=TRUNCATING_TYPE)\n",
    "\n",
    "# tokenizing labels\n",
    "label_tokenizer = Tokenizer()\n",
    "label_tokenizer.fit_on_texts(labels)\n",
    "\n",
    "training_labels_sequence = np.array(label_tokenizer.texts_to_sequences(training_labels))\n",
    "testing_labels_sequence = np.array(label_tokenizer.texts_to_sequences(testing_labels))\n",
    "\n",
    "print(len(training_labels_sequence), len(training_texts_padded))\n",
    "print(training_labels_sequence[:10], training_labels[:10])\n",
    "\n",
    "print(set(labels))"
   ]
  },
  {
   "cell_type": "code",
   "execution_count": 34,
   "metadata": {},
   "outputs": [
    {
     "name": "stdout",
     "output_type": "stream",
     "text": [
      "Model: \"sequential_3\"\n",
      "_________________________________________________________________\n",
      " Layer (type)                Output Shape              Param #   \n",
      "=================================================================\n",
      " embedding_3 (Embedding)     (None, 200, 64)           748160    \n",
      "                                                                 \n",
      " dropout_9 (Dropout)         (None, 200, 64)           0         \n",
      "                                                                 \n",
      " bidirectional_3 (Bidirectio  (None, 128)              66048     \n",
      " nal)                                                            \n",
      "                                                                 \n",
      " dropout_10 (Dropout)        (None, 128)               0         \n",
      "                                                                 \n",
      " dense_6 (Dense)             (None, 32)                4128      \n",
      "                                                                 \n",
      " dropout_11 (Dropout)        (None, 32)                0         \n",
      "                                                                 \n",
      " dense_7 (Dense)             (None, 5)                 165       \n",
      "                                                                 \n",
      "=================================================================\n",
      "Total params: 818,501\n",
      "Trainable params: 818,501\n",
      "Non-trainable params: 0\n",
      "_________________________________________________________________\n"
     ]
    }
   ],
   "source": [
    "# creating the model\n",
    "model = tf.keras.Sequential([\n",
    "    tf.keras.layers.Embedding(len(text_tokenizer.word_index), 64, input_length=TEXT_MAX_LEN),\n",
    "    tf.keras.layers.Dropout(0.5),\n",
    "    tf.keras.layers.Bidirectional(tf.keras.layers.LSTM(64)),\n",
    "    tf.keras.layers.Dropout(0.5),\n",
    "    tf.keras.layers.Dense(32, activation='relu'),\n",
    "    tf.keras.layers.Dropout(0.5),\n",
    "    tf.keras.layers.Dense(5, activation='softmax')\n",
    "])\n",
    "\n",
    "model.summary()\n",
    "model.compile(loss='sparse_categorical_crossentropy',optimizer='adam',metrics=['accuracy'])"
   ]
  },
  {
   "cell_type": "code",
   "execution_count": 35,
   "metadata": {},
   "outputs": [
    {
     "name": "stdout",
     "output_type": "stream",
     "text": [
      "Epoch 1/10\n",
      "678/678 [==============================] - 136s 195ms/step - loss: 0.9666 - accuracy: 0.5825 - val_loss: 0.6379 - val_accuracy: 0.7384\n",
      "Epoch 2/10\n",
      "678/678 [==============================] - 138s 204ms/step - loss: 0.6091 - accuracy: 0.7712 - val_loss: 0.5455 - val_accuracy: 0.7908\n",
      "Epoch 3/10\n",
      "678/678 [==============================] - 139s 204ms/step - loss: 0.4901 - accuracy: 0.8235 - val_loss: 0.5570 - val_accuracy: 0.7945\n",
      "Epoch 4/10\n",
      "678/678 [==============================] - 144s 212ms/step - loss: 0.4313 - accuracy: 0.8459 - val_loss: 0.5685 - val_accuracy: 0.7928\n",
      "Epoch 5/10\n",
      "678/678 [==============================] - 141s 207ms/step - loss: 0.3938 - accuracy: 0.8618 - val_loss: 0.5727 - val_accuracy: 0.7958\n",
      "Epoch 6/10\n",
      "678/678 [==============================] - 145s 213ms/step - loss: 0.3635 - accuracy: 0.8730 - val_loss: 0.5799 - val_accuracy: 0.7945\n",
      "Epoch 7/10\n",
      "678/678 [==============================] - 147s 217ms/step - loss: 0.3379 - accuracy: 0.8808 - val_loss: 0.6329 - val_accuracy: 0.7936\n",
      "Epoch 8/10\n",
      "678/678 [==============================] - 141s 208ms/step - loss: 0.3236 - accuracy: 0.8856 - val_loss: 0.6543 - val_accuracy: 0.7927\n",
      "Epoch 9/10\n",
      "678/678 [==============================] - 141s 208ms/step - loss: 0.3156 - accuracy: 0.8897 - val_loss: 0.6855 - val_accuracy: 0.7919\n",
      "Epoch 10/10\n",
      "678/678 [==============================] - 153s 226ms/step - loss: 0.2919 - accuracy: 0.8968 - val_loss: 0.8031 - val_accuracy: 0.7897\n",
      "170/170 [==============================] - 12s 69ms/step - loss: 0.8031 - accuracy: 0.7897\n",
      "Loss: 0.8031077980995178, Accuracy: 0.7897067070007324\n"
     ]
    }
   ],
   "source": [
    "# training model\n",
    "num_epochs = 10\n",
    "history = model.fit(training_texts_padded, training_labels_sequence, epochs=num_epochs, validation_data=(testing_texts_padded, testing_labels_sequence), verbose=1)\n",
    "test_loss, test_accuracy = model.evaluate(testing_texts_padded, testing_labels_sequence)\n",
    "\n",
    "print(f'Loss: {test_loss}, Accuracy: {test_accuracy}')"
   ]
  },
  {
   "cell_type": "code",
   "execution_count": 36,
   "metadata": {},
   "outputs": [
    {
     "data": {
      "image/png": "[encoded data removed]",
      "text/plain": [
       "<Figure size 432x288 with 1 Axes>"
      ]
     },
     "metadata": {
      "needs_background": "light"
     },
     "output_type": "display_data"
    },
    {
     "data": {
      "image/png": "[encoded data removed]",
      "text/plain": [
       "<Figure size 432x288 with 1 Axes>"
      ]
     },
     "metadata": {
      "needs_background": "light"
     },
     "output_type": "display_data"
    }
   ],
   "source": [
    "# Plot utility\n",
    "def plot_graphs(history, string):\n",
    "  plt.plot(history.history[string])\n",
    "  plt.plot(history.history['val_'+string])\n",
    "  plt.xlabel(\"Epochs\")\n",
    "  plt.ylabel(string)\n",
    "  plt.legend([string, 'val_'+string])\n",
    "  plt.show()\n",
    "  \n",
    "# Plot the accuracy and loss\n",
    "plot_graphs(history, \"accuracy\")\n",
    "plot_graphs(history, \"loss\")"
   ]
  },
  {
   "cell_type": "code",
   "execution_count": 37,
   "metadata": {},
   "outputs": [],
   "source": [
    "# saving model\n",
    "model.save('model.h5')\n",
    "\n",
    "# saving vocabs\n",
    "json.dump(text_tokenizer.word_index, open('vocabs.txt', 'w'))\n",
    "\n",
    "tf.keras.backend.clear_session()"
   ]
  },
  {
   "cell_type": "code",
   "execution_count": 38,
   "metadata": {},
   "outputs": [
    {
     "name": "stdout",
     "output_type": "stream",
     "text": [
      "[[4181 6419 4823  567    1   46    0    0    0    0    0    0    0    0\n",
      "     0    0    0    0    0    0    0    0    0    0    0    0    0    0\n",
      "     0    0    0    0    0    0    0    0    0    0    0    0    0    0\n",
      "     0    0    0    0    0    0    0    0    0    0    0    0    0    0\n",
      "     0    0    0    0    0    0    0    0    0    0    0    0    0    0\n",
      "     0    0    0    0    0    0    0    0    0    0    0    0    0    0\n",
      "     0    0    0    0    0    0    0    0    0    0    0    0    0    0\n",
      "     0    0    0    0    0    0    0    0    0    0    0    0    0    0\n",
      "     0    0    0    0    0    0    0    0    0    0    0    0    0    0\n",
      "     0    0    0    0    0    0    0    0    0    0    0    0    0    0\n",
      "     0    0    0    0    0    0    0    0    0    0    0    0    0    0\n",
      "     0    0    0    0    0    0    0    0    0    0    0    0    0    0\n",
      "     0    0    0    0    0    0    0    0    0    0    0    0    0    0\n",
      "     0    0    0    0    0    0    0    0    0    0    0    0    0    0\n",
      "     0    0    0    0]]\n",
      "1/1 [==============================] - 1s 1s/step\n",
      "[[1.2316300e-09 9.6039778e-01 3.7567220e-03 3.5556685e-02 2.8889286e-04]] suicide\n"
     ]
    }
   ],
   "source": [
    "# testing to get a prediction\n",
    "entry = ['you are a piece of shit']\n",
    "entry_sequence = text_tokenizer.texts_to_sequences(entry)\n",
    "entry_padded = pad_sequences(entry_sequence, maxlen=TEXT_MAX_LEN, padding=PADDING_TYPE, truncating=TRUNCATING_TYPE)\n",
    "print(entry_padded)\n",
    "prediction = model.predict(entry_padded)\n",
    "labels = ['suicide', 'cyberbullying', 'neutral', 'nsfw']\n",
    "print(prediction, labels[np.argmax(prediction)-1])"
   ]
  }
 ],
 "metadata": {
  "kernelspec": {
   "display_name": "Python 3.9.13 ('ml')",
   "language": "python",
   "name": "python3"
  },
  "language_info": {
   "codemirror_mode": {
    "name": "ipython",
    "version": 3
   },
   "file_extension": ".py",
   "mimetype": "text/x-python",
   "name": "python",
   "nbconvert_exporter": "python",
   "pygments_lexer": "ipython3",
   "version": "3.9.13"
  },
  "orig_nbformat": 4,
  "vscode": {
   "interpreter": {
    "hash": "b957e13a8a08f5851830a4936dfeb29ab81a414b959f13c804e1dc68fe22cdd5"
   }
  }
 },
 "nbformat": 4,
 "nbformat_minor": 2
}
