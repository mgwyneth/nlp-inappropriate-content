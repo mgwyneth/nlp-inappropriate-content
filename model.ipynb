{
 "cells": [
  {
   "cell_type": "code",
   "execution_count": 108,
   "metadata": {},
   "outputs": [
    {
     "name": "stderr",
     "output_type": "stream",
     "text": [
      "[nltk_data] Downloading package stopwords to\n",
      "[nltk_data]     C:\\Users\\mauib\\AppData\\Roaming\\nltk_data...\n",
      "[nltk_data]   Package stopwords is already up-to-date!\n"
     ]
    },
    {
     "data": {
      "text/plain": [
       "True"
      ]
     },
     "execution_count": 108,
     "metadata": {},
     "output_type": "execute_result"
    }
   ],
   "source": [
    "import pandas as pd\n",
    "import numpy as np\n",
    "import tensorflow as tf\n",
    "import matplotlib.pyplot as plt\n",
    "import nltk\n",
    "import regex as re\n",
    "import json\n",
    "from nltk.corpus import stopwords\n",
    "from tensorflow.keras.preprocessing.text import Tokenizer\n",
    "from tensorflow.keras.preprocessing.sequence import pad_sequences\n",
    "\n",
    "nltk.download('stopwords')"
   ]
  },
  {
   "cell_type": "code",
   "execution_count": 109,
   "metadata": {},
   "outputs": [],
   "source": [
    "STOPWORDS = set(stopwords.words('english'))\n",
    "REPLACE_BY_SPACE_RE = re.compile('[/(){}\\[\\]\\|@,;]')\n",
    "BAD_SYMBOLS_RE = re.compile('[^0-9a-z #+_]')\n",
    "USERNAME_RE = re.compile('@[^\\s]+')\n",
    "HASHTAG_RE = re.compile('#[^\\s]+')\n",
    "\n",
    "VOCAB_SIZE = 10000\n",
    "TEXT_MAX_LEN = 200\n",
    "TRUNCATING_TYPE = PADDING_TYPE = 'post'\n",
    "OOV_TOK = '<OOV>'"
   ]
  },
  {
   "cell_type": "code",
   "execution_count": 110,
   "metadata": {},
   "outputs": [
    {
     "name": "stdout",
     "output_type": "stream",
     "text": [
      "32465 32465\n"
     ]
    }
   ],
   "source": [
    "# data pre processing\n",
    "\n",
    "texts = []\n",
    "labels = []\n",
    "\n",
    "df = pd.read_csv('DATASET.csv', names=['label', 'text'])\n",
    "df = df.sample(frac=1).reset_index(drop=True)\n",
    "\n",
    "for index, row in df.iterrows():\n",
    "    if 'http' in str(row['text']): continue\n",
    "\n",
    "    labels.append(row['label'])\n",
    "    \n",
    "    txt = str(row['text']).lower()\n",
    "    txt = USERNAME_RE.sub('', txt)\n",
    "    txt = REPLACE_BY_SPACE_RE.sub(' ', txt)\n",
    "    txt = BAD_SYMBOLS_RE.sub(' ', txt)\n",
    "    txt = ' '.join(word for word in txt.split() if word not in STOPWORDS)\n",
    "\n",
    "    texts.append(txt)\n",
    "\n",
    "print(len(texts), len(labels))"
   ]
  },
  {
   "cell_type": "code",
   "execution_count": 111,
   "metadata": {},
   "outputs": [
    {
     "name": "stdout",
     "output_type": "stream",
     "text": [
      "25972 25972\n",
      "6493 6493\n"
     ]
    }
   ],
   "source": [
    "# data splitting\n",
    "TRAIN_SIZE = int(len(texts) * .8)\n",
    "\n",
    "training_labels = labels[0:TRAIN_SIZE]\n",
    "training_texts = texts[0:TRAIN_SIZE]\n",
    "\n",
    "testing_labels = labels[TRAIN_SIZE:]\n",
    "testing_texts = texts[TRAIN_SIZE:]\n",
    "\n",
    "print(len(training_labels), len(training_texts))\n",
    "print(len(testing_labels), len(testing_texts))"
   ]
  },
  {
   "cell_type": "code",
   "execution_count": 124,
   "metadata": {},
   "outputs": [
    {
     "name": "stdout",
     "output_type": "stream",
     "text": [
      "25972 25972\n",
      "6493 6493\n"
     ]
    }
   ],
   "source": [
    "# tokenizing texts\n",
    "text_tokenizer = Tokenizer(num_words=VOCAB_SIZE, oov_token=OOV_TOK, filters='!\"#$%&()*+,-./:;<=>?@[\\\\]^_`{\"}~\\t\\n')\n",
    "text_tokenizer.fit_on_texts(testing_texts)\n",
    "\n",
    "training_texts_sequence = text_tokenizer.texts_to_sequences(training_texts)\n",
    "training_texts_padded = pad_sequences(training_texts_sequence, maxlen=TEXT_MAX_LEN, padding=PADDING_TYPE, truncating=TRUNCATING_TYPE)\n",
    "\n",
    "testing_texts_sequence = text_tokenizer.texts_to_sequences(testing_texts)\n",
    "testing_texts_padded = pad_sequences(testing_texts_sequence, maxlen=TEXT_MAX_LEN, padding=PADDING_TYPE, truncating=TRUNCATING_TYPE)\n",
    "\n",
    "# tokenizing labels\n",
    "label_tokenizer = Tokenizer()\n",
    "label_tokenizer.fit_on_texts(labels)\n",
    "\n",
    "training_labels_sequence = np.array(label_tokenizer.texts_to_sequences(training_labels))\n",
    "testing_labels_sequence = np.array(label_tokenizer.texts_to_sequences(testing_labels))\n",
    "\n",
    "print(len(training_labels_sequence), len(training_texts_padded))\n",
    "print(len(testing_labels_sequence), len(testing_texts_padded))"
   ]
  },
  {
   "cell_type": "code",
   "execution_count": 113,
   "metadata": {},
   "outputs": [
    {
     "name": "stdout",
     "output_type": "stream",
     "text": [
      "Model: \"sequential\"\n",
      "_________________________________________________________________\n",
      " Layer (type)                Output Shape              Param #   \n",
      "=================================================================\n",
      " embedding (Embedding)       (None, 200, 64)           876224    \n",
      "                                                                 \n",
      " dropout (Dropout)           (None, 200, 64)           0         \n",
      "                                                                 \n",
      " bidirectional (Bidirectiona  (None, 128)              66048     \n",
      " l)                                                              \n",
      "                                                                 \n",
      " dropout_1 (Dropout)         (None, 128)               0         \n",
      "                                                                 \n",
      " dense (Dense)               (None, 32)                4128      \n",
      "                                                                 \n",
      " dropout_2 (Dropout)         (None, 32)                0         \n",
      "                                                                 \n",
      " dense_1 (Dense)             (None, 5)                 165       \n",
      "                                                                 \n",
      "=================================================================\n",
      "Total params: 946,565\n",
      "Trainable params: 946,565\n",
      "Non-trainable params: 0\n",
      "_________________________________________________________________\n"
     ]
    }
   ],
   "source": [
    "# creating the model\n",
    "model = tf.keras.Sequential([\n",
    "    tf.keras.layers.Embedding(len(text_tokenizer.word_index), 64, input_length=TEXT_MAX_LEN),\n",
    "    tf.keras.layers.Dropout(0.5),\n",
    "    tf.keras.layers.Bidirectional(tf.keras.layers.LSTM(64)),\n",
    "    tf.keras.layers.Dropout(0.5),\n",
    "    tf.keras.layers.Dense(32, activation='relu'),\n",
    "    tf.keras.layers.Dropout(0.5),\n",
    "    tf.keras.layers.Dense(5, activation='softmax')\n",
    "])\n",
    "\n",
    "model.summary()\n",
    "model.compile(loss='sparse_categorical_crossentropy',optimizer='adam',metrics=['accuracy'])"
   ]
  },
  {
   "cell_type": "code",
   "execution_count": 114,
   "metadata": {},
   "outputs": [
    {
     "name": "stdout",
     "output_type": "stream",
     "text": [
      "812/812 [==============================] - 164s 197ms/step - loss: 0.9026 - accuracy: 0.6274 - val_loss: 0.5925 - val_accuracy: 0.7684\n",
      "203/203 [==============================] - 10s 51ms/step - loss: 0.5925 - accuracy: 0.7684\n",
      "Loss: 0.5924952626228333, Accuracy: 0.7683659195899963\n"
     ]
    }
   ],
   "source": [
    "# training model\n",
    "num_epochs = 1\n",
    "history = model.fit(training_texts_padded, training_labels_sequence, epochs=num_epochs, validation_data=(testing_texts_padded, testing_labels_sequence), verbose=1)\n",
    "test_loss, test_accuracy = model.evaluate(testing_texts_padded, testing_labels_sequence)\n",
    "\n",
    "print(f'Loss: {test_loss}, Accuracy: {test_accuracy}')"
   ]
  },
  {
   "cell_type": "code",
   "execution_count": 115,
   "metadata": {},
   "outputs": [
    {
     "data": {
      "image/png": "[encoded data removed]",
      "text/plain": [
       "<Figure size 432x288 with 1 Axes>"
      ]
     },
     "metadata": {
      "needs_background": "light"
     },
     "output_type": "display_data"
    },
    {
     "data": {
      "image/png": "[encoded data removed]",
      "text/plain": [
       "<Figure size 432x288 with 1 Axes>"
      ]
     },
     "metadata": {
      "needs_background": "light"
     },
     "output_type": "display_data"
    }
   ],
   "source": [
    "# Plot utility\n",
    "def plot_graphs(history, string):\n",
    "  plt.plot(history.history[string])\n",
    "  plt.plot(history.history['val_'+string])\n",
    "  plt.xlabel(\"Epochs\")\n",
    "  plt.ylabel(string)\n",
    "  plt.legend([string, 'val_'+string])\n",
    "  plt.show()\n",
    "  \n",
    "# Plot the accuracy and loss\n",
    "plot_graphs(history, \"accuracy\")\n",
    "plot_graphs(history, \"loss\")"
   ]
  },
  {
   "cell_type": "code",
   "execution_count": 127,
   "metadata": {},
   "outputs": [],
   "source": [
    "# saving model\n",
    "model.save('model.h5')\n",
    "\n",
    "# saving vocabs\n",
    "json.dump(text_tokenizer.word_index, open('vocabs.txt', 'w'))\n",
    "\n",
    "tf.keras.backend.clear_session()"
   ]
  },
  {
   "cell_type": "code",
   "execution_count": 125,
   "metadata": {},
   "outputs": [
    {
     "name": "stdout",
     "output_type": "stream",
     "text": [
      "[[   1    1 8442  366    1   42    0    0    0    0    0    0    0    0\n",
      "     0    0    0    0    0    0    0    0    0    0    0    0    0    0\n",
      "     0    0    0    0    0    0    0    0    0    0    0    0    0    0\n",
      "     0    0    0    0    0    0    0    0    0    0    0    0    0    0\n",
      "     0    0    0    0    0    0    0    0    0    0    0    0    0    0\n",
      "     0    0    0    0    0    0    0    0    0    0    0    0    0    0\n",
      "     0    0    0    0    0    0    0    0    0    0    0    0    0    0\n",
      "     0    0    0    0    0    0    0    0    0    0    0    0    0    0\n",
      "     0    0    0    0    0    0    0    0    0    0    0    0    0    0\n",
      "     0    0    0    0    0    0    0    0    0    0    0    0    0    0\n",
      "     0    0    0    0    0    0    0    0    0    0    0    0    0    0\n",
      "     0    0    0    0    0    0    0    0    0    0    0    0    0    0\n",
      "     0    0    0    0    0    0    0    0    0    0    0    0    0    0\n",
      "     0    0    0    0    0    0    0    0    0    0    0    0    0    0\n",
      "     0    0    0    0]]\n",
      "1/1 [==============================] - 0s 92ms/step\n",
      "[[3.7656736e-04 5.1061738e-01 2.4697728e-02 2.3305375e-02 4.4100294e-01]] suicide\n"
     ]
    }
   ],
   "source": [
    "# testing to get a prediction\n",
    "entry = ['you are a piece of shit']\n",
    "entry_sequence = text_tokenizer.texts_to_sequences(entry)\n",
    "entry_padded = pad_sequences(entry_sequence, maxlen=TEXT_MAX_LEN, padding=PADDING_TYPE, truncating=TRUNCATING_TYPE)\n",
    "print(entry_padded)\n",
    "prediction = model.predict(entry_padded)\n",
    "labels = ['suicide', 'cyberbullying', 'neutral', 'nsfw']\n",
    "print(prediction, labels[np.argmax(prediction)-1])"
   ]
  }
 ],
 "metadata": {
  "kernelspec": {
   "display_name": "Python 3.9.13 ('ml')",
   "language": "python",
   "name": "python3"
  },
  "language_info": {
   "codemirror_mode": {
    "name": "ipython",
    "version": 3
   },
   "file_extension": ".py",
   "mimetype": "text/x-python",
   "name": "python",
   "nbconvert_exporter": "python",
   "pygments_lexer": "ipython3",
   "version": "3.9.13"
  },
  "orig_nbformat": 4,
  "vscode": {
   "interpreter": {
    "hash": "b957e13a8a08f5851830a4936dfeb29ab81a414b959f13c804e1dc68fe22cdd5"
   }
  }
 },
 "nbformat": 4,
 "nbformat_minor": 2
}
